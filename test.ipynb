{
 "cells": [
  {
   "cell_type": "code",
   "execution_count": null,
   "metadata": {},
   "outputs": [
    {
     "ename": "",
     "evalue": "",
     "output_type": "error",
     "traceback": [
      "\u001b[1;31mRunning cells with '.venv (Python 3.11.4)' requires the ipykernel package.\n",
      "\u001b[1;31mRun the following command to install 'ipykernel' into the Python environment. \n",
      "\u001b[1;31mCommand: '/Users/reymerekar/Desktop/GitHub/beehiiv-mcp-server/.venv/bin/python -m pip install ipykernel -U --force-reinstall'"
     ]
    }
   ],
   "source": [
    "from typing import Any, Optional\n",
    "import os\n",
    "import httpx\n",
    "from mcp.server.fastmcp import FastMCP\n",
    "from dotenv import load_dotenv\n",
    "\n",
    "\n",
    "\n",
    "BEEHIIV_API_KEY = os.getenv(\"BEEHIIV_API_KEY\")\n",
    "BASE_URL = \"https://api.beehiiv.com/v2\"\n",
    "publication_id = os.getenv(\"BEEHIIV_PUBLICATION_ID\")\n",
    "\n",
    "async def beehiiv_request(\n",
    "    method: str,\n",
    "    path: str,\n",
    "    params: Optional[dict[str, Any]] = None,\n",
    "    json_body: Optional[dict[str, Any]] = None\n",
    ") -> Optional[dict[str, Any]]:\n",
    "    \"\"\"\n",
    "    Helper to call the beehiiv API v2.\n",
    "\n",
    "    Args:\n",
    "        method: HTTP method (GET, POST, etc.)\n",
    "        path:   API path (e.g. '/publications')\n",
    "        params: Query parameters\n",
    "        json_body: Request JSON body\n",
    "    \"\"\"\n",
    "    headers = {\n",
    "        \"Authorization\": f\"Bearer {BEEHIIV_API_KEY}\",\n",
    "        \"Content-Type\": \"application/json\"\n",
    "    }\n",
    "    url = f\"{BASE_URL}{path}\"\n",
    "    async with httpx.AsyncClient() as client:\n",
    "        try:\n",
    "            response = await client.request(\n",
    "                method, url,\n",
    "                headers=headers,\n",
    "                params=params,\n",
    "                json=json_body,\n",
    "                timeout=30.0\n",
    "            )\n",
    "            response.raise_for_status()\n",
    "            return response.json()\n",
    "        except httpx.HTTPError as e:\n",
    "            return {\"error\": str(e)}"
   ]
  },
  {
   "cell_type": "code",
   "execution_count": null,
   "metadata": {},
   "outputs": [
    {
     "ename": "",
     "evalue": "",
     "output_type": "error",
     "traceback": [
      "\u001b[1;31mRunning cells with '.venv (Python 3.11.4)' requires the ipykernel package.\n",
      "\u001b[1;31mRun the following command to install 'ipykernel' into the Python environment. \n",
      "\u001b[1;31mCommand: '/Users/reymerekar/Desktop/GitHub/beehiiv-mcp-server/.venv/bin/python -m pip install ipykernel -U --force-reinstall'"
     ]
    }
   ],
   "source": [
    "data = beehiiv_request(\"GET\", \"/publications\")\n",
    "\n",
    "print(data)"
   ]
  },
  {
   "cell_type": "code",
   "execution_count": null,
   "metadata": {},
   "outputs": [],
   "source": []
  }
 ],
 "metadata": {
  "kernelspec": {
   "display_name": ".venv",
   "language": "python",
   "name": "python3"
  },
  "language_info": {
   "name": "python",
   "version": "3.11.4"
  }
 },
 "nbformat": 4,
 "nbformat_minor": 2
}
